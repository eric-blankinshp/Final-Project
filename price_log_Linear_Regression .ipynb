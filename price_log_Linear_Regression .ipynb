{
 "cells": [
  {
   "cell_type": "code",
   "execution_count": 1,
   "id": "7f6a8a66",
   "metadata": {},
   "outputs": [],
   "source": [
    "import numpy as np\n",
    "import pandas as pd\n",
    "from pathlib import Path\n",
    "from collections import Counter\n",
    "import seaborn as sns \n",
    "import matplotlib \n",
    "import matplotlib.pyplot as plt"
   ]
  },
  {
   "cell_type": "code",
   "execution_count": 2,
   "id": "e8ebea36",
   "metadata": {},
   "outputs": [],
   "source": [
    "from sklearn.metrics import balanced_accuracy_score\n",
    "from sklearn.metrics import confusion_matrix\n",
    "from imblearn.metrics import classification_report_imbalanced\n",
    "from sklearn.preprocessing import StandardScaler, MinMaxScaler"
   ]
  },
  {
   "cell_type": "code",
   "execution_count": 3,
   "id": "0771ca37",
   "metadata": {
    "scrolled": true
   },
   "outputs": [
    {
     "data": {
      "text/html": [
       "<div>\n",
       "<style scoped>\n",
       "    .dataframe tbody tr th:only-of-type {\n",
       "        vertical-align: middle;\n",
       "    }\n",
       "\n",
       "    .dataframe tbody tr th {\n",
       "        vertical-align: top;\n",
       "    }\n",
       "\n",
       "    .dataframe thead th {\n",
       "        text-align: right;\n",
       "    }\n",
       "</style>\n",
       "<table border=\"1\" class=\"dataframe\">\n",
       "  <thead>\n",
       "    <tr style=\"text-align: right;\">\n",
       "      <th></th>\n",
       "      <th>price</th>\n",
       "      <th>bedrooms</th>\n",
       "      <th>bathrooms</th>\n",
       "      <th>sqft_living</th>\n",
       "      <th>sqft_lot</th>\n",
       "      <th>floors</th>\n",
       "      <th>waterfront</th>\n",
       "      <th>view</th>\n",
       "      <th>condition</th>\n",
       "      <th>grade</th>\n",
       "      <th>sqft_above</th>\n",
       "      <th>sqft_basement</th>\n",
       "      <th>yr_built</th>\n",
       "      <th>yr_renovated</th>\n",
       "      <th>zipcode</th>\n",
       "      <th>lat</th>\n",
       "      <th>long</th>\n",
       "      <th>sqft_living15</th>\n",
       "      <th>sqft_lot15</th>\n",
       "      <th>prop_crime_rate_per_1k</th>\n",
       "    </tr>\n",
       "  </thead>\n",
       "  <tbody>\n",
       "    <tr>\n",
       "      <th>0</th>\n",
       "      <td>221900.0</td>\n",
       "      <td>3</td>\n",
       "      <td>1.00</td>\n",
       "      <td>1180</td>\n",
       "      <td>5650</td>\n",
       "      <td>1.0</td>\n",
       "      <td>0</td>\n",
       "      <td>0</td>\n",
       "      <td>3</td>\n",
       "      <td>7</td>\n",
       "      <td>1180</td>\n",
       "      <td>0</td>\n",
       "      <td>1955</td>\n",
       "      <td>0</td>\n",
       "      <td>98178</td>\n",
       "      <td>47.5112</td>\n",
       "      <td>-122.257</td>\n",
       "      <td>1340</td>\n",
       "      <td>5650</td>\n",
       "      <td>12.565414</td>\n",
       "    </tr>\n",
       "    <tr>\n",
       "      <th>1</th>\n",
       "      <td>205425.0</td>\n",
       "      <td>2</td>\n",
       "      <td>1.00</td>\n",
       "      <td>880</td>\n",
       "      <td>6780</td>\n",
       "      <td>1.0</td>\n",
       "      <td>0</td>\n",
       "      <td>0</td>\n",
       "      <td>4</td>\n",
       "      <td>6</td>\n",
       "      <td>880</td>\n",
       "      <td>0</td>\n",
       "      <td>1945</td>\n",
       "      <td>0</td>\n",
       "      <td>98178</td>\n",
       "      <td>47.5009</td>\n",
       "      <td>-122.248</td>\n",
       "      <td>1190</td>\n",
       "      <td>6780</td>\n",
       "      <td>12.565414</td>\n",
       "    </tr>\n",
       "    <tr>\n",
       "      <th>2</th>\n",
       "      <td>445000.0</td>\n",
       "      <td>3</td>\n",
       "      <td>2.25</td>\n",
       "      <td>2100</td>\n",
       "      <td>8201</td>\n",
       "      <td>1.0</td>\n",
       "      <td>0</td>\n",
       "      <td>2</td>\n",
       "      <td>3</td>\n",
       "      <td>8</td>\n",
       "      <td>1620</td>\n",
       "      <td>480</td>\n",
       "      <td>1967</td>\n",
       "      <td>0</td>\n",
       "      <td>98178</td>\n",
       "      <td>47.5091</td>\n",
       "      <td>-122.244</td>\n",
       "      <td>2660</td>\n",
       "      <td>8712</td>\n",
       "      <td>12.565414</td>\n",
       "    </tr>\n",
       "    <tr>\n",
       "      <th>3</th>\n",
       "      <td>236000.0</td>\n",
       "      <td>3</td>\n",
       "      <td>1.00</td>\n",
       "      <td>1300</td>\n",
       "      <td>5898</td>\n",
       "      <td>1.0</td>\n",
       "      <td>0</td>\n",
       "      <td>0</td>\n",
       "      <td>3</td>\n",
       "      <td>7</td>\n",
       "      <td>1300</td>\n",
       "      <td>0</td>\n",
       "      <td>1961</td>\n",
       "      <td>0</td>\n",
       "      <td>98178</td>\n",
       "      <td>47.5053</td>\n",
       "      <td>-122.255</td>\n",
       "      <td>1320</td>\n",
       "      <td>7619</td>\n",
       "      <td>12.565414</td>\n",
       "    </tr>\n",
       "    <tr>\n",
       "      <th>4</th>\n",
       "      <td>170000.0</td>\n",
       "      <td>2</td>\n",
       "      <td>1.00</td>\n",
       "      <td>860</td>\n",
       "      <td>5265</td>\n",
       "      <td>1.0</td>\n",
       "      <td>0</td>\n",
       "      <td>0</td>\n",
       "      <td>3</td>\n",
       "      <td>6</td>\n",
       "      <td>860</td>\n",
       "      <td>0</td>\n",
       "      <td>1931</td>\n",
       "      <td>0</td>\n",
       "      <td>98178</td>\n",
       "      <td>47.5048</td>\n",
       "      <td>-122.272</td>\n",
       "      <td>1650</td>\n",
       "      <td>8775</td>\n",
       "      <td>12.565414</td>\n",
       "    </tr>\n",
       "  </tbody>\n",
       "</table>\n",
       "</div>"
      ],
      "text/plain": [
       "      price  bedrooms  bathrooms  sqft_living  sqft_lot  floors  waterfront  \\\n",
       "0  221900.0         3       1.00         1180      5650     1.0           0   \n",
       "1  205425.0         2       1.00          880      6780     1.0           0   \n",
       "2  445000.0         3       2.25         2100      8201     1.0           0   \n",
       "3  236000.0         3       1.00         1300      5898     1.0           0   \n",
       "4  170000.0         2       1.00          860      5265     1.0           0   \n",
       "\n",
       "   view  condition  grade  sqft_above  sqft_basement  yr_built  yr_renovated  \\\n",
       "0     0          3      7        1180              0      1955             0   \n",
       "1     0          4      6         880              0      1945             0   \n",
       "2     2          3      8        1620            480      1967             0   \n",
       "3     0          3      7        1300              0      1961             0   \n",
       "4     0          3      6         860              0      1931             0   \n",
       "\n",
       "   zipcode      lat     long  sqft_living15  sqft_lot15  \\\n",
       "0    98178  47.5112 -122.257           1340        5650   \n",
       "1    98178  47.5009 -122.248           1190        6780   \n",
       "2    98178  47.5091 -122.244           2660        8712   \n",
       "3    98178  47.5053 -122.255           1320        7619   \n",
       "4    98178  47.5048 -122.272           1650        8775   \n",
       "\n",
       "   prop_crime_rate_per_1k  \n",
       "0               12.565414  \n",
       "1               12.565414  \n",
       "2               12.565414  \n",
       "3               12.565414  \n",
       "4               12.565414  "
      ]
     },
     "execution_count": 3,
     "metadata": {},
     "output_type": "execute_result"
    }
   ],
   "source": [
    "# Importing csv  \n",
    "\n",
    "kc_house_data = pd.read_csv('new_merge.csv')\n",
    "kc_house_data.head()"
   ]
  },
  {
   "cell_type": "code",
   "execution_count": 4,
   "id": "d3714039",
   "metadata": {},
   "outputs": [
    {
     "data": {
      "text/plain": [
       "price                     float64\n",
       "bedrooms                    int64\n",
       "bathrooms                 float64\n",
       "sqft_living                 int64\n",
       "sqft_lot                    int64\n",
       "floors                    float64\n",
       "waterfront                  int64\n",
       "view                        int64\n",
       "condition                   int64\n",
       "grade                       int64\n",
       "sqft_above                  int64\n",
       "sqft_basement               int64\n",
       "yr_built                    int64\n",
       "yr_renovated                int64\n",
       "zipcode                     int64\n",
       "lat                       float64\n",
       "long                      float64\n",
       "sqft_living15               int64\n",
       "sqft_lot15                  int64\n",
       "prop_crime_rate_per_1k    float64\n",
       "dtype: object"
      ]
     },
     "execution_count": 4,
     "metadata": {},
     "output_type": "execute_result"
    }
   ],
   "source": [
    "#Checking for Datatypes\n",
    "kc_house_data.dtypes"
   ]
  },
  {
   "cell_type": "code",
   "execution_count": 5,
   "id": "129147f9",
   "metadata": {},
   "outputs": [
    {
     "data": {
      "text/plain": [
       "price                     78000.00000\n",
       "bedrooms                      0.00000\n",
       "bathrooms                     0.00000\n",
       "sqft_living                 370.00000\n",
       "sqft_lot                    520.00000\n",
       "floors                        1.00000\n",
       "waterfront                    0.00000\n",
       "view                          0.00000\n",
       "condition                     1.00000\n",
       "grade                         4.00000\n",
       "sqft_above                  370.00000\n",
       "sqft_basement                 0.00000\n",
       "yr_built                   1900.00000\n",
       "yr_renovated                  0.00000\n",
       "zipcode                   98102.00000\n",
       "lat                          47.46960\n",
       "long                       -122.41600\n",
       "sqft_living15               460.00000\n",
       "sqft_lot15                  651.00000\n",
       "prop_crime_rate_per_1k        0.04683\n",
       "dtype: float64"
      ]
     },
     "execution_count": 5,
     "metadata": {},
     "output_type": "execute_result"
    }
   ],
   "source": [
    "#Finding Min/Max of price \n",
    "kc_house_data.min()"
   ]
  },
  {
   "cell_type": "code",
   "execution_count": 6,
   "id": "718dd7f9",
   "metadata": {},
   "outputs": [
    {
     "name": "stderr",
     "output_type": "stream",
     "text": [
      "C:\\Users\\tmam9\\Anaconda3\\envs\\mlenv\\lib\\site-packages\\seaborn\\distributions.py:2619: FutureWarning: `distplot` is a deprecated function and will be removed in a future version. Please adapt your code to use either `displot` (a figure-level function with similar flexibility) or `histplot` (an axes-level function for histograms).\n",
      "  warnings.warn(msg, FutureWarning)\n"
     ]
    },
    {
     "data": {
      "image/png": "[encoded data removed]",
      "text/plain": [
       "<Figure size 432x288 with 1 Axes>"
      ]
     },
     "metadata": {},
     "output_type": "display_data"
    }
   ],
   "source": [
    "x = kc_house_data.price\n",
    "sns.set_style('whitegrid')\n",
    "sns.distplot(x)\n",
    "plt.show()"
   ]
  },
  {
   "cell_type": "code",
   "execution_count": 7,
   "id": "9edb957a",
   "metadata": {},
   "outputs": [
    {
     "name": "stderr",
     "output_type": "stream",
     "text": [
      "C:\\Users\\tmam9\\Anaconda3\\envs\\mlenv\\lib\\site-packages\\seaborn\\distributions.py:2619: FutureWarning: `distplot` is a deprecated function and will be removed in a future version. Please adapt your code to use either `displot` (a figure-level function with similar flexibility) or `histplot` (an axes-level function for histograms).\n",
      "  warnings.warn(msg, FutureWarning)\n"
     ]
    },
    {
     "data": {
      "image/png": "[encoded data removed]",
      "text/plain": [
       "<Figure size 432x288 with 1 Axes>"
      ]
     },
     "metadata": {},
     "output_type": "display_data"
    }
   ],
   "source": [
    "kc_house_data['price_log'] = np.log(kc_house_data.price)\n",
    "x = kc_house_data.price_log\n",
    "sns.distplot(x)\n",
    "plt.show()"
   ]
  },
  {
   "cell_type": "markdown",
   "id": "5c646041",
   "metadata": {},
   "source": [
    "# Linear Regression #  "
   ]
  },
  {
   "cell_type": "code",
   "execution_count": 8,
   "id": "372fb63b",
   "metadata": {
    "scrolled": true
   },
   "outputs": [
    {
     "data": {
      "text/plain": [
       "<AxesSubplot:>"
      ]
     },
     "execution_count": 8,
     "metadata": {},
     "output_type": "execute_result"
    },
    {
     "data": {
      "image/png": "[encoded data removed]",
      "text/plain": [
       "<Figure size 432x288 with 2 Axes>"
      ]
     },
     "metadata": {},
     "output_type": "display_data"
    }
   ],
   "source": [
    "corr = kc_house_data.corr()\n",
    "sns.heatmap(corr)"
   ]
  },
  {
   "cell_type": "code",
   "execution_count": 9,
   "id": "3f7c8ee2",
   "metadata": {
    "scrolled": true
   },
   "outputs": [
    {
     "data": {
      "text/html": [
       "<div>\n",
       "<style scoped>\n",
       "    .dataframe tbody tr th:only-of-type {\n",
       "        vertical-align: middle;\n",
       "    }\n",
       "\n",
       "    .dataframe tbody tr th {\n",
       "        vertical-align: top;\n",
       "    }\n",
       "\n",
       "    .dataframe thead th {\n",
       "        text-align: right;\n",
       "    }\n",
       "</style>\n",
       "<table border=\"1\" class=\"dataframe\">\n",
       "  <thead>\n",
       "    <tr style=\"text-align: right;\">\n",
       "      <th></th>\n",
       "      <th>price</th>\n",
       "      <th>price_log</th>\n",
       "      <th>sqft_living</th>\n",
       "      <th>view</th>\n",
       "      <th>prop_crime_rate_per_1k</th>\n",
       "      <th>grade</th>\n",
       "      <th>bathrooms</th>\n",
       "    </tr>\n",
       "  </thead>\n",
       "  <tbody>\n",
       "    <tr>\n",
       "      <th>0</th>\n",
       "      <td>221900.0</td>\n",
       "      <td>12.309982</td>\n",
       "      <td>1180</td>\n",
       "      <td>0</td>\n",
       "      <td>12.565414</td>\n",
       "      <td>7</td>\n",
       "      <td>1.00</td>\n",
       "    </tr>\n",
       "    <tr>\n",
       "      <th>1</th>\n",
       "      <td>205425.0</td>\n",
       "      <td>12.232836</td>\n",
       "      <td>880</td>\n",
       "      <td>0</td>\n",
       "      <td>12.565414</td>\n",
       "      <td>6</td>\n",
       "      <td>1.00</td>\n",
       "    </tr>\n",
       "    <tr>\n",
       "      <th>2</th>\n",
       "      <td>445000.0</td>\n",
       "      <td>13.005830</td>\n",
       "      <td>2100</td>\n",
       "      <td>2</td>\n",
       "      <td>12.565414</td>\n",
       "      <td>8</td>\n",
       "      <td>2.25</td>\n",
       "    </tr>\n",
       "    <tr>\n",
       "      <th>3</th>\n",
       "      <td>236000.0</td>\n",
       "      <td>12.371587</td>\n",
       "      <td>1300</td>\n",
       "      <td>0</td>\n",
       "      <td>12.565414</td>\n",
       "      <td>7</td>\n",
       "      <td>1.00</td>\n",
       "    </tr>\n",
       "    <tr>\n",
       "      <th>4</th>\n",
       "      <td>170000.0</td>\n",
       "      <td>12.043554</td>\n",
       "      <td>860</td>\n",
       "      <td>0</td>\n",
       "      <td>12.565414</td>\n",
       "      <td>6</td>\n",
       "      <td>1.00</td>\n",
       "    </tr>\n",
       "    <tr>\n",
       "      <th>...</th>\n",
       "      <td>...</td>\n",
       "      <td>...</td>\n",
       "      <td>...</td>\n",
       "      <td>...</td>\n",
       "      <td>...</td>\n",
       "      <td>...</td>\n",
       "      <td>...</td>\n",
       "    </tr>\n",
       "    <tr>\n",
       "      <th>8245</th>\n",
       "      <td>359800.0</td>\n",
       "      <td>12.793304</td>\n",
       "      <td>2170</td>\n",
       "      <td>0</td>\n",
       "      <td>51.997918</td>\n",
       "      <td>8</td>\n",
       "      <td>2.50</td>\n",
       "    </tr>\n",
       "    <tr>\n",
       "      <th>8246</th>\n",
       "      <td>443000.0</td>\n",
       "      <td>13.001325</td>\n",
       "      <td>2430</td>\n",
       "      <td>0</td>\n",
       "      <td>51.997918</td>\n",
       "      <td>8</td>\n",
       "      <td>2.50</td>\n",
       "    </tr>\n",
       "    <tr>\n",
       "      <th>8247</th>\n",
       "      <td>249000.0</td>\n",
       "      <td>12.425208</td>\n",
       "      <td>1260</td>\n",
       "      <td>0</td>\n",
       "      <td>51.997918</td>\n",
       "      <td>7</td>\n",
       "      <td>2.00</td>\n",
       "    </tr>\n",
       "    <tr>\n",
       "      <th>8248</th>\n",
       "      <td>305000.0</td>\n",
       "      <td>12.628067</td>\n",
       "      <td>1590</td>\n",
       "      <td>0</td>\n",
       "      <td>51.997918</td>\n",
       "      <td>7</td>\n",
       "      <td>2.50</td>\n",
       "    </tr>\n",
       "    <tr>\n",
       "      <th>8249</th>\n",
       "      <td>330000.0</td>\n",
       "      <td>12.706848</td>\n",
       "      <td>1450</td>\n",
       "      <td>0</td>\n",
       "      <td>51.997918</td>\n",
       "      <td>7</td>\n",
       "      <td>2.50</td>\n",
       "    </tr>\n",
       "  </tbody>\n",
       "</table>\n",
       "<p>8250 rows × 7 columns</p>\n",
       "</div>"
      ],
      "text/plain": [
       "         price  price_log  sqft_living  view  prop_crime_rate_per_1k  grade  \\\n",
       "0     221900.0  12.309982         1180     0               12.565414      7   \n",
       "1     205425.0  12.232836          880     0               12.565414      6   \n",
       "2     445000.0  13.005830         2100     2               12.565414      8   \n",
       "3     236000.0  12.371587         1300     0               12.565414      7   \n",
       "4     170000.0  12.043554          860     0               12.565414      6   \n",
       "...        ...        ...          ...   ...                     ...    ...   \n",
       "8245  359800.0  12.793304         2170     0               51.997918      8   \n",
       "8246  443000.0  13.001325         2430     0               51.997918      8   \n",
       "8247  249000.0  12.425208         1260     0               51.997918      7   \n",
       "8248  305000.0  12.628067         1590     0               51.997918      7   \n",
       "8249  330000.0  12.706848         1450     0               51.997918      7   \n",
       "\n",
       "      bathrooms  \n",
       "0          1.00  \n",
       "1          1.00  \n",
       "2          2.25  \n",
       "3          1.00  \n",
       "4          1.00  \n",
       "...         ...  \n",
       "8245       2.50  \n",
       "8246       2.50  \n",
       "8247       2.00  \n",
       "8248       2.50  \n",
       "8249       2.50  \n",
       "\n",
       "[8250 rows x 7 columns]"
      ]
     },
     "execution_count": 9,
     "metadata": {},
     "output_type": "execute_result"
    }
   ],
   "source": [
    "new_df = kc_house_data[['price', 'price_log','sqft_living', 'view', 'prop_crime_rate_per_1k', 'grade', 'bathrooms',]]\n",
    "new_df"
   ]
  },
  {
   "cell_type": "code",
   "execution_count": 10,
   "id": "9e3b0ed9",
   "metadata": {},
   "outputs": [
    {
     "data": {
      "text/plain": [
       "<AxesSubplot:>"
      ]
     },
     "execution_count": 10,
     "metadata": {},
     "output_type": "execute_result"
    },
    {
     "data": {
      "image/png": "[encoded data removed]",
      "text/plain": [
       "<Figure size 432x288 with 2 Axes>"
      ]
     },
     "metadata": {},
     "output_type": "display_data"
    }
   ],
   "source": [
    "corr2 = new_df.corr()\n",
    "sns.heatmap(corr2)"
   ]
  },
  {
   "cell_type": "code",
   "execution_count": 11,
   "id": "906cb3c8",
   "metadata": {},
   "outputs": [],
   "source": [
    "columns = ['sqft_living', 'floors', 'waterfront', 'view', \"prop_crime_rate_per_1k\", 'price', 'price_log']\n",
    "\n",
    "target = ['price']"
   ]
  },
  {
   "cell_type": "code",
   "execution_count": 12,
   "id": "7b45d39f",
   "metadata": {},
   "outputs": [],
   "source": [
    "# Create our features\n",
    "X = new_df.drop(columns=['price', 'price_log'])\n",
    "# Create our target\n",
    "#y = cleaned_house_data.loc[:, target].copy()\n",
    "y = new_df['price']"
   ]
  },
  {
   "cell_type": "code",
   "execution_count": 13,
   "id": "38c575d8",
   "metadata": {},
   "outputs": [
    {
     "data": {
      "text/html": [
       "<div>\n",
       "<style scoped>\n",
       "    .dataframe tbody tr th:only-of-type {\n",
       "        vertical-align: middle;\n",
       "    }\n",
       "\n",
       "    .dataframe tbody tr th {\n",
       "        vertical-align: top;\n",
       "    }\n",
       "\n",
       "    .dataframe thead th {\n",
       "        text-align: right;\n",
       "    }\n",
       "</style>\n",
       "<table border=\"1\" class=\"dataframe\">\n",
       "  <thead>\n",
       "    <tr style=\"text-align: right;\">\n",
       "      <th></th>\n",
       "      <th>sqft_living</th>\n",
       "      <th>view</th>\n",
       "      <th>prop_crime_rate_per_1k</th>\n",
       "      <th>grade</th>\n",
       "      <th>bathrooms</th>\n",
       "    </tr>\n",
       "  </thead>\n",
       "  <tbody>\n",
       "    <tr>\n",
       "      <th>count</th>\n",
       "      <td>8250.000000</td>\n",
       "      <td>8250.000000</td>\n",
       "      <td>8250.000000</td>\n",
       "      <td>8250.000000</td>\n",
       "      <td>8250.000000</td>\n",
       "    </tr>\n",
       "    <tr>\n",
       "      <th>mean</th>\n",
       "      <td>1789.702667</td>\n",
       "      <td>0.286545</td>\n",
       "      <td>44.866057</td>\n",
       "      <td>7.352727</td>\n",
       "      <td>1.898091</td>\n",
       "    </tr>\n",
       "    <tr>\n",
       "      <th>std</th>\n",
       "      <td>797.487204</td>\n",
       "      <td>0.833779</td>\n",
       "      <td>22.457606</td>\n",
       "      <td>1.014716</td>\n",
       "      <td>0.792312</td>\n",
       "    </tr>\n",
       "    <tr>\n",
       "      <th>min</th>\n",
       "      <td>370.000000</td>\n",
       "      <td>0.000000</td>\n",
       "      <td>0.046830</td>\n",
       "      <td>4.000000</td>\n",
       "      <td>0.000000</td>\n",
       "    </tr>\n",
       "    <tr>\n",
       "      <th>25%</th>\n",
       "      <td>1230.000000</td>\n",
       "      <td>0.000000</td>\n",
       "      <td>36.942876</td>\n",
       "      <td>7.000000</td>\n",
       "      <td>1.000000</td>\n",
       "    </tr>\n",
       "    <tr>\n",
       "      <th>50%</th>\n",
       "      <td>1630.000000</td>\n",
       "      <td>0.000000</td>\n",
       "      <td>44.748415</td>\n",
       "      <td>7.000000</td>\n",
       "      <td>1.750000</td>\n",
       "    </tr>\n",
       "    <tr>\n",
       "      <th>75%</th>\n",
       "      <td>2180.000000</td>\n",
       "      <td>0.000000</td>\n",
       "      <td>62.228675</td>\n",
       "      <td>8.000000</td>\n",
       "      <td>2.500000</td>\n",
       "    </tr>\n",
       "    <tr>\n",
       "      <th>max</th>\n",
       "      <td>12050.000000</td>\n",
       "      <td>4.000000</td>\n",
       "      <td>87.699296</td>\n",
       "      <td>13.000000</td>\n",
       "      <td>8.000000</td>\n",
       "    </tr>\n",
       "  </tbody>\n",
       "</table>\n",
       "</div>"
      ],
      "text/plain": [
       "        sqft_living         view  prop_crime_rate_per_1k        grade  \\\n",
       "count   8250.000000  8250.000000             8250.000000  8250.000000   \n",
       "mean    1789.702667     0.286545               44.866057     7.352727   \n",
       "std      797.487204     0.833779               22.457606     1.014716   \n",
       "min      370.000000     0.000000                0.046830     4.000000   \n",
       "25%     1230.000000     0.000000               36.942876     7.000000   \n",
       "50%     1630.000000     0.000000               44.748415     7.000000   \n",
       "75%     2180.000000     0.000000               62.228675     8.000000   \n",
       "max    12050.000000     4.000000               87.699296    13.000000   \n",
       "\n",
       "         bathrooms  \n",
       "count  8250.000000  \n",
       "mean      1.898091  \n",
       "std       0.792312  \n",
       "min       0.000000  \n",
       "25%       1.000000  \n",
       "50%       1.750000  \n",
       "75%       2.500000  \n",
       "max       8.000000  "
      ]
     },
     "execution_count": 13,
     "metadata": {},
     "output_type": "execute_result"
    }
   ],
   "source": [
    "X.describe()"
   ]
  },
  {
   "cell_type": "code",
   "execution_count": 14,
   "id": "2d5f9bcb",
   "metadata": {},
   "outputs": [
    {
     "data": {
      "text/plain": [
       "450000.0     80\n",
       "350000.0     77\n",
       "425000.0     75\n",
       "500000.0     72\n",
       "400000.0     68\n",
       "             ..\n",
       "504600.0      1\n",
       "1560000.0     1\n",
       "610950.0      1\n",
       "439995.0      1\n",
       "274800.0      1\n",
       "Name: price, Length: 1958, dtype: int64"
      ]
     },
     "execution_count": 14,
     "metadata": {},
     "output_type": "execute_result"
    }
   ],
   "source": [
    "#Checking the balance of our target values \n",
    "y.value_counts()"
   ]
  },
  {
   "cell_type": "code",
   "execution_count": 15,
   "id": "a081a89e",
   "metadata": {},
   "outputs": [],
   "source": [
    "from sklearn.model_selection import train_test_split\n",
    "X_train, X_test, y_train, y_test = train_test_split(X, y, random_state=1)"
   ]
  },
  {
   "cell_type": "code",
   "execution_count": 16,
   "id": "6a0cac2c",
   "metadata": {},
   "outputs": [
    {
     "data": {
      "text/plain": [
       "LinearRegression()"
      ]
     },
     "execution_count": 16,
     "metadata": {},
     "output_type": "execute_result"
    }
   ],
   "source": [
    "from sklearn.linear_model import LinearRegression\n",
    "model = LinearRegression()\n",
    "model.fit(X_train, y_train)"
   ]
  },
  {
   "cell_type": "code",
   "execution_count": 17,
   "id": "a5d7fa34",
   "metadata": {},
   "outputs": [
    {
     "data": {
      "text/plain": [
       "0.6639887707591879"
      ]
     },
     "execution_count": 17,
     "metadata": {},
     "output_type": "execute_result"
    }
   ],
   "source": [
    "model.score(X_train, y_train)"
   ]
  },
  {
   "cell_type": "code",
   "execution_count": 18,
   "id": "7027f7ac",
   "metadata": {
    "scrolled": true
   },
   "outputs": [
    {
     "data": {
      "text/plain": [
       "0.6468906233265156"
      ]
     },
     "execution_count": 18,
     "metadata": {},
     "output_type": "execute_result"
    }
   ],
   "source": [
    "model.score(X_test, y_test)"
   ]
  },
  {
   "cell_type": "code",
   "execution_count": null,
   "id": "c133de6f",
   "metadata": {},
   "outputs": [],
   "source": []
  }
 ],
 "metadata": {
  "kernelspec": {
   "display_name": "Python 3 (ipykernel)",
   "language": "python",
   "name": "python3"
  },
  "language_info": {
   "codemirror_mode": {
    "name": "ipython",
    "version": 3
   },
   "file_extension": ".py",
   "mimetype": "text/x-python",
   "name": "python",
   "nbconvert_exporter": "python",
   "pygments_lexer": "ipython3",
   "version": "3.7.13"
  }
 },
 "nbformat": 4,
 "nbformat_minor": 5
}
