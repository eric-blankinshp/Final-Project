{
 "cells": [
  {
   "cell_type": "code",
   "execution_count": 1,
   "id": "7f6a8a66",
   "metadata": {},
   "outputs": [],
   "source": [
    "import numpy as np\n",
    "import pandas as pd\n",
    "from pathlib import Path\n",
    "from collections import Counter\n",
    "import seaborn as sns \n",
    "import matplotlib \n",
    "import matplotlib.pyplot as plt"
   ]
  },
  {
   "cell_type": "code",
   "execution_count": 2,
   "id": "e8ebea36",
   "metadata": {},
   "outputs": [],
   "source": [
    "from sklearn.metrics import balanced_accuracy_score\n",
    "from sklearn.metrics import confusion_matrix\n",
    "from imblearn.metrics import classification_report_imbalanced\n",
    "from sklearn.preprocessing import StandardScaler, MinMaxScaler"
   ]
  },
  {
   "cell_type": "code",
   "execution_count": 3,
   "id": "0771ca37",
   "metadata": {
    "scrolled": true
   },
   "outputs": [
    {
     "name": "stderr",
     "output_type": "stream",
     "text": [
      "C:\\Users\\tmam9\\Anaconda3\\envs\\mlenv\\lib\\site-packages\\IPython\\core\\interactiveshell.py:3457: DtypeWarning: Columns (3,4,5,6,7) have mixed types.Specify dtype option on import or set low_memory=False.\n",
      "  exec(code_obj, self.user_global_ns, self.user_ns)\n"
     ]
    },
    {
     "data": {
      "text/html": [
       "<div>\n",
       "<style scoped>\n",
       "    .dataframe tbody tr th:only-of-type {\n",
       "        vertical-align: middle;\n",
       "    }\n",
       "\n",
       "    .dataframe tbody tr th {\n",
       "        vertical-align: top;\n",
       "    }\n",
       "\n",
       "    .dataframe thead th {\n",
       "        text-align: right;\n",
       "    }\n",
       "</style>\n",
       "<table border=\"1\" class=\"dataframe\">\n",
       "  <thead>\n",
       "    <tr style=\"text-align: right;\">\n",
       "      <th></th>\n",
       "      <th>RegionID</th>\n",
       "      <th>SizeRank</th>\n",
       "      <th>ZIP</th>\n",
       "      <th>RegionType</th>\n",
       "      <th>State</th>\n",
       "      <th>City</th>\n",
       "      <th>Metro</th>\n",
       "      <th>CountyName</th>\n",
       "      <th>Housing Value</th>\n",
       "      <th>OBJECTID</th>\n",
       "      <th>...</th>\n",
       "      <th>VAL_METHOD</th>\n",
       "      <th>VAL_DATE</th>\n",
       "      <th>WEBSITE</th>\n",
       "      <th>LEVEL_</th>\n",
       "      <th>ENROLLMENT</th>\n",
       "      <th>ST_GRADE</th>\n",
       "      <th>END_GRADE</th>\n",
       "      <th>DISTRICTID</th>\n",
       "      <th>FT_TEACHER</th>\n",
       "      <th>SHELTER_ID</th>\n",
       "    </tr>\n",
       "  </thead>\n",
       "  <tbody>\n",
       "    <tr>\n",
       "      <th>0</th>\n",
       "      <td>93144.0</td>\n",
       "      <td>2.0</td>\n",
       "      <td>79936</td>\n",
       "      <td>zip</td>\n",
       "      <td>TX</td>\n",
       "      <td>El Paso</td>\n",
       "      <td>El Paso, TX</td>\n",
       "      <td>El Paso County</td>\n",
       "      <td>196166.0</td>\n",
       "      <td>376.0</td>\n",
       "      <td>...</td>\n",
       "      <td>IMAGERY</td>\n",
       "      <td>2018/10/24 00:00:00+00</td>\n",
       "      <td>http://www.sisd.net</td>\n",
       "      <td>ELEMENTARY</td>\n",
       "      <td>724.0</td>\n",
       "      <td>PK</td>\n",
       "      <td>5</td>\n",
       "      <td>4840710.0</td>\n",
       "      <td>43.0</td>\n",
       "      <td>NOT AVAILABLE</td>\n",
       "    </tr>\n",
       "    <tr>\n",
       "      <th>1</th>\n",
       "      <td>93144.0</td>\n",
       "      <td>2.0</td>\n",
       "      <td>79936</td>\n",
       "      <td>zip</td>\n",
       "      <td>TX</td>\n",
       "      <td>El Paso</td>\n",
       "      <td>El Paso, TX</td>\n",
       "      <td>El Paso County</td>\n",
       "      <td>196166.0</td>\n",
       "      <td>15972.0</td>\n",
       "      <td>...</td>\n",
       "      <td>IMAGERY</td>\n",
       "      <td>2010/04/12 00:00:00+00</td>\n",
       "      <td>http://relwash.yisd.net</td>\n",
       "      <td>ELEMENTARY</td>\n",
       "      <td>603.0</td>\n",
       "      <td>PK</td>\n",
       "      <td>6</td>\n",
       "      <td>4846680.0</td>\n",
       "      <td>39.0</td>\n",
       "      <td>NOT AVAILABLE</td>\n",
       "    </tr>\n",
       "    <tr>\n",
       "      <th>2</th>\n",
       "      <td>93144.0</td>\n",
       "      <td>2.0</td>\n",
       "      <td>79936</td>\n",
       "      <td>zip</td>\n",
       "      <td>TX</td>\n",
       "      <td>El Paso</td>\n",
       "      <td>El Paso, TX</td>\n",
       "      <td>El Paso County</td>\n",
       "      <td>196166.0</td>\n",
       "      <td>20044.0</td>\n",
       "      <td>...</td>\n",
       "      <td>IMAGERY</td>\n",
       "      <td>2010/04/06 00:00:00+00</td>\n",
       "      <td>http://www.sisd.net</td>\n",
       "      <td>MIDDLE</td>\n",
       "      <td>988.0</td>\n",
       "      <td>6</td>\n",
       "      <td>8</td>\n",
       "      <td>4840710.0</td>\n",
       "      <td>63.0</td>\n",
       "      <td>NOT AVAILABLE</td>\n",
       "    </tr>\n",
       "    <tr>\n",
       "      <th>3</th>\n",
       "      <td>93144.0</td>\n",
       "      <td>2.0</td>\n",
       "      <td>79936</td>\n",
       "      <td>zip</td>\n",
       "      <td>TX</td>\n",
       "      <td>El Paso</td>\n",
       "      <td>El Paso, TX</td>\n",
       "      <td>El Paso County</td>\n",
       "      <td>196166.0</td>\n",
       "      <td>29096.0</td>\n",
       "      <td>...</td>\n",
       "      <td>IMAGERY/OTHER</td>\n",
       "      <td>2019/01/14 00:00:00+00</td>\n",
       "      <td>http://pebblehills.yisd.net</td>\n",
       "      <td>ELEMENTARY</td>\n",
       "      <td>690.0</td>\n",
       "      <td>PK</td>\n",
       "      <td>5</td>\n",
       "      <td>4846680.0</td>\n",
       "      <td>47.0</td>\n",
       "      <td>NOT AVAILABLE</td>\n",
       "    </tr>\n",
       "    <tr>\n",
       "      <th>4</th>\n",
       "      <td>93144.0</td>\n",
       "      <td>2.0</td>\n",
       "      <td>79936</td>\n",
       "      <td>zip</td>\n",
       "      <td>TX</td>\n",
       "      <td>El Paso</td>\n",
       "      <td>El Paso, TX</td>\n",
       "      <td>El Paso County</td>\n",
       "      <td>196166.0</td>\n",
       "      <td>29462.0</td>\n",
       "      <td>...</td>\n",
       "      <td>IMAGERY</td>\n",
       "      <td>2010/04/15 00:00:00+00</td>\n",
       "      <td>http://tierradelsol.yisd.net</td>\n",
       "      <td>ELEMENTARY</td>\n",
       "      <td>698.0</td>\n",
       "      <td>PK</td>\n",
       "      <td>6</td>\n",
       "      <td>4846680.0</td>\n",
       "      <td>45.0</td>\n",
       "      <td>NOT AVAILABLE</td>\n",
       "    </tr>\n",
       "  </tbody>\n",
       "</table>\n",
       "<p>5 rows × 39 columns</p>\n",
       "</div>"
      ],
      "text/plain": [
       "   RegionID  SizeRank    ZIP RegionType State     City        Metro  \\\n",
       "0   93144.0       2.0  79936        zip    TX  El Paso  El Paso, TX   \n",
       "1   93144.0       2.0  79936        zip    TX  El Paso  El Paso, TX   \n",
       "2   93144.0       2.0  79936        zip    TX  El Paso  El Paso, TX   \n",
       "3   93144.0       2.0  79936        zip    TX  El Paso  El Paso, TX   \n",
       "4   93144.0       2.0  79936        zip    TX  El Paso  El Paso, TX   \n",
       "\n",
       "       CountyName  Housing Value  OBJECTID  ...     VAL_METHOD  \\\n",
       "0  El Paso County       196166.0     376.0  ...        IMAGERY   \n",
       "1  El Paso County       196166.0   15972.0  ...        IMAGERY   \n",
       "2  El Paso County       196166.0   20044.0  ...        IMAGERY   \n",
       "3  El Paso County       196166.0   29096.0  ...  IMAGERY/OTHER   \n",
       "4  El Paso County       196166.0   29462.0  ...        IMAGERY   \n",
       "\n",
       "                 VAL_DATE                       WEBSITE      LEVEL_  \\\n",
       "0  2018/10/24 00:00:00+00           http://www.sisd.net  ELEMENTARY   \n",
       "1  2010/04/12 00:00:00+00       http://relwash.yisd.net  ELEMENTARY   \n",
       "2  2010/04/06 00:00:00+00           http://www.sisd.net      MIDDLE   \n",
       "3  2019/01/14 00:00:00+00   http://pebblehills.yisd.net  ELEMENTARY   \n",
       "4  2010/04/15 00:00:00+00  http://tierradelsol.yisd.net  ELEMENTARY   \n",
       "\n",
       "  ENROLLMENT ST_GRADE END_GRADE  DISTRICTID  FT_TEACHER     SHELTER_ID  \n",
       "0      724.0       PK         5   4840710.0        43.0  NOT AVAILABLE  \n",
       "1      603.0       PK         6   4846680.0        39.0  NOT AVAILABLE  \n",
       "2      988.0        6         8   4840710.0        63.0  NOT AVAILABLE  \n",
       "3      690.0       PK         5   4846680.0        47.0  NOT AVAILABLE  \n",
       "4      698.0       PK         6   4846680.0        45.0  NOT AVAILABLE  \n",
       "\n",
       "[5 rows x 39 columns]"
      ]
     },
     "execution_count": 3,
     "metadata": {},
     "output_type": "execute_result"
    }
   ],
   "source": [
    "# Importing csv  \n",
    "\n",
    "kc_house_data = pd.read_csv('merged_df.csv')\n",
    "kc_house_data.head()"
   ]
  },
  {
   "cell_type": "code",
   "execution_count": 4,
   "id": "d3714039",
   "metadata": {},
   "outputs": [
    {
     "data": {
      "text/plain": [
       "RegionID         float64\n",
       "SizeRank         float64\n",
       "ZIP                int64\n",
       "RegionType        object\n",
       "State             object\n",
       "City              object\n",
       "Metro             object\n",
       "CountyName        object\n",
       "Housing Value    float64\n",
       "OBJECTID         float64\n",
       "NCESID           float64\n",
       "NAME              object\n",
       "ADDRESS           object\n",
       "CITY              object\n",
       "STATE             object\n",
       "ZIP4              object\n",
       "TELEPHONE         object\n",
       "TYPE             float64\n",
       "STATUS           float64\n",
       "POPULATION       float64\n",
       "COUNTY            object\n",
       "COUNTYFIPS       float64\n",
       "COUNTRY           object\n",
       "LATITUDE         float64\n",
       "LONGITUDE        float64\n",
       "NAICS_CODE       float64\n",
       "NAICS_DESC        object\n",
       "SOURCE            object\n",
       "SOURCEDATE        object\n",
       "VAL_METHOD        object\n",
       "VAL_DATE          object\n",
       "WEBSITE           object\n",
       "LEVEL_            object\n",
       "ENROLLMENT       float64\n",
       "ST_GRADE          object\n",
       "END_GRADE         object\n",
       "DISTRICTID       float64\n",
       "FT_TEACHER       float64\n",
       "SHELTER_ID        object\n",
       "dtype: object"
      ]
     },
     "execution_count": 4,
     "metadata": {},
     "output_type": "execute_result"
    }
   ],
   "source": [
    "#Checking for Datatypes\n",
    "kc_house_data.dtypes"
   ]
  },
  {
   "cell_type": "code",
   "execution_count": 5,
   "id": "129147f9",
   "metadata": {},
   "outputs": [
    {
     "name": "stderr",
     "output_type": "stream",
     "text": [
      "C:\\Users\\tmam9\\Anaconda3\\envs\\mlenv\\lib\\site-packages\\ipykernel_launcher.py:2: FutureWarning: Dropping of nuisance columns in DataFrame reductions (with 'numeric_only=None') is deprecated; in a future version this will raise TypeError.  Select only valid columns before calling the reduction.\n",
      "  \n"
     ]
    },
    {
     "data": {
      "text/plain": [
       "RegionID         5.819600e+04\n",
       "SizeRank         2.000000e+00\n",
       "ZIP              1.001000e+03\n",
       "Housing Value    2.632200e+04\n",
       "OBJECTID         1.000000e+00\n",
       "NCESID           1.000050e+10\n",
       "TYPE             1.000000e+00\n",
       "STATUS           1.000000e+00\n",
       "POPULATION      -9.990000e+02\n",
       "COUNTYFIPS       1.001000e+03\n",
       "LATITUDE         2.455323e+01\n",
       "LONGITUDE       -1.766399e+02\n",
       "NAICS_CODE       6.111100e+05\n",
       "ENROLLMENT      -9.990000e+02\n",
       "DISTRICTID       1.000050e+05\n",
       "FT_TEACHER      -9.990000e+02\n",
       "dtype: float64"
      ]
     },
     "execution_count": 5,
     "metadata": {},
     "output_type": "execute_result"
    }
   ],
   "source": [
    "#Finding Min/Max of price \n",
    "kc_house_data.min()"
   ]
  },
  {
   "cell_type": "code",
   "execution_count": 6,
   "id": "718dd7f9",
   "metadata": {},
   "outputs": [
    {
     "ename": "AttributeError",
     "evalue": "'DataFrame' object has no attribute 'price'",
     "output_type": "error",
     "traceback": [
      "\u001b[1;31m---------------------------------------------------------------------------\u001b[0m",
      "\u001b[1;31mAttributeError\u001b[0m                            Traceback (most recent call last)",
      "\u001b[1;32m~\\AppData\\Local\\Temp\\ipykernel_15936\\2658039503.py\u001b[0m in \u001b[0;36m<module>\u001b[1;34m\u001b[0m\n\u001b[1;32m----> 1\u001b[1;33m \u001b[0mx\u001b[0m \u001b[1;33m=\u001b[0m \u001b[0mkc_house_data\u001b[0m\u001b[1;33m.\u001b[0m\u001b[0mprice\u001b[0m\u001b[1;33m\u001b[0m\u001b[1;33m\u001b[0m\u001b[0m\n\u001b[0m\u001b[0;32m      2\u001b[0m \u001b[0msns\u001b[0m\u001b[1;33m.\u001b[0m\u001b[0mset_style\u001b[0m\u001b[1;33m(\u001b[0m\u001b[1;34m'whitegrid'\u001b[0m\u001b[1;33m)\u001b[0m\u001b[1;33m\u001b[0m\u001b[1;33m\u001b[0m\u001b[0m\n\u001b[0;32m      3\u001b[0m \u001b[0msns\u001b[0m\u001b[1;33m.\u001b[0m\u001b[0mdistplot\u001b[0m\u001b[1;33m(\u001b[0m\u001b[0mx\u001b[0m\u001b[1;33m)\u001b[0m\u001b[1;33m\u001b[0m\u001b[1;33m\u001b[0m\u001b[0m\n\u001b[0;32m      4\u001b[0m \u001b[0mplt\u001b[0m\u001b[1;33m.\u001b[0m\u001b[0mshow\u001b[0m\u001b[1;33m(\u001b[0m\u001b[1;33m)\u001b[0m\u001b[1;33m\u001b[0m\u001b[1;33m\u001b[0m\u001b[0m\n",
      "\u001b[1;32m~\\Anaconda3\\envs\\mlenv\\lib\\site-packages\\pandas\\core\\generic.py\u001b[0m in \u001b[0;36m__getattr__\u001b[1;34m(self, name)\u001b[0m\n\u001b[0;32m   5485\u001b[0m         ):\n\u001b[0;32m   5486\u001b[0m             \u001b[1;32mreturn\u001b[0m \u001b[0mself\u001b[0m\u001b[1;33m[\u001b[0m\u001b[0mname\u001b[0m\u001b[1;33m]\u001b[0m\u001b[1;33m\u001b[0m\u001b[1;33m\u001b[0m\u001b[0m\n\u001b[1;32m-> 5487\u001b[1;33m         \u001b[1;32mreturn\u001b[0m \u001b[0mobject\u001b[0m\u001b[1;33m.\u001b[0m\u001b[0m__getattribute__\u001b[0m\u001b[1;33m(\u001b[0m\u001b[0mself\u001b[0m\u001b[1;33m,\u001b[0m \u001b[0mname\u001b[0m\u001b[1;33m)\u001b[0m\u001b[1;33m\u001b[0m\u001b[1;33m\u001b[0m\u001b[0m\n\u001b[0m\u001b[0;32m   5488\u001b[0m \u001b[1;33m\u001b[0m\u001b[0m\n\u001b[0;32m   5489\u001b[0m     \u001b[1;32mdef\u001b[0m \u001b[0m__setattr__\u001b[0m\u001b[1;33m(\u001b[0m\u001b[0mself\u001b[0m\u001b[1;33m,\u001b[0m \u001b[0mname\u001b[0m\u001b[1;33m:\u001b[0m \u001b[0mstr\u001b[0m\u001b[1;33m,\u001b[0m \u001b[0mvalue\u001b[0m\u001b[1;33m)\u001b[0m \u001b[1;33m->\u001b[0m \u001b[1;32mNone\u001b[0m\u001b[1;33m:\u001b[0m\u001b[1;33m\u001b[0m\u001b[1;33m\u001b[0m\u001b[0m\n",
      "\u001b[1;31mAttributeError\u001b[0m: 'DataFrame' object has no attribute 'price'"
     ]
    }
   ],
   "source": [
    "x = kc_house_data.price\n",
    "sns.set_style('whitegrid')\n",
    "sns.distplot(x)\n",
    "plt.show()"
   ]
  },
  {
   "cell_type": "code",
   "execution_count": null,
   "id": "9edb957a",
   "metadata": {},
   "outputs": [],
   "source": [
    "kc_house_data['price_log'] = np.log(kc_house_data.price)\n",
    "x = kc_house_data.price_log\n",
    "sns.distplot(x)\n",
    "plt.show()"
   ]
  },
  {
   "cell_type": "markdown",
   "id": "5c646041",
   "metadata": {},
   "source": [
    "# Linear Regression #  "
   ]
  },
  {
   "cell_type": "code",
   "execution_count": null,
   "id": "6bd43c8b",
   "metadata": {
    "scrolled": true
   },
   "outputs": [],
   "source": [
    "new_df = kc_house_data[['price', 'price_log','sqft_living', 'floors', 'waterfront', 'view', 'yr_renovated']]"
   ]
  },
  {
   "cell_type": "code",
   "execution_count": null,
   "id": "906cb3c8",
   "metadata": {},
   "outputs": [],
   "source": [
    "columns = ['sqft_living', 'floors', 'waterfront', 'view', 'yr_renovated']\n",
    "\n",
    "target = ['price_log']"
   ]
  },
  {
   "cell_type": "code",
   "execution_count": null,
   "id": "7b45d39f",
   "metadata": {},
   "outputs": [],
   "source": [
    "# Create our features\n",
    "X = new_df.drop(columns=['price', 'price_log'])\n",
    "# Create our target\n",
    "#y = cleaned_house_data.loc[:, target].copy()\n",
    "y = new_df['price_log']"
   ]
  },
  {
   "cell_type": "code",
   "execution_count": null,
   "id": "38c575d8",
   "metadata": {},
   "outputs": [],
   "source": [
    "X.describe()"
   ]
  },
  {
   "cell_type": "code",
   "execution_count": null,
   "id": "2d5f9bcb",
   "metadata": {},
   "outputs": [],
   "source": [
    "#Checking the balance of our target values \n",
    "y.value_counts()"
   ]
  },
  {
   "cell_type": "code",
   "execution_count": null,
   "id": "a081a89e",
   "metadata": {},
   "outputs": [],
   "source": [
    "from sklearn.model_selection import train_test_split\n",
    "X_train, X_test, y_train, y_test = train_test_split(X, y, random_state=1)"
   ]
  },
  {
   "cell_type": "code",
   "execution_count": null,
   "id": "6a0cac2c",
   "metadata": {},
   "outputs": [],
   "source": [
    "from sklearn.linear_model import LinearRegression\n",
    "model = LinearRegression()\n",
    "model.fit(X_train, y_train)"
   ]
  },
  {
   "cell_type": "code",
   "execution_count": null,
   "id": "a5d7fa34",
   "metadata": {},
   "outputs": [],
   "source": [
    "model.score(X_train, y_train)"
   ]
  },
  {
   "cell_type": "code",
   "execution_count": null,
   "id": "7027f7ac",
   "metadata": {
    "scrolled": true
   },
   "outputs": [],
   "source": [
    "model.score(X_test, y_test)"
   ]
  },
  {
   "cell_type": "code",
   "execution_count": null,
   "id": "c133de6f",
   "metadata": {},
   "outputs": [],
   "source": []
  }
 ],
 "metadata": {
  "kernelspec": {
   "display_name": "Python 3 (ipykernel)",
   "language": "python",
   "name": "python3"
  },
  "language_info": {
   "codemirror_mode": {
    "name": "ipython",
    "version": 3
   },
   "file_extension": ".py",
   "mimetype": "text/x-python",
   "name": "python",
   "nbconvert_exporter": "python",
   "pygments_lexer": "ipython3",
   "version": "3.7.13"
  }
 },
 "nbformat": 4,
 "nbformat_minor": 5
}
