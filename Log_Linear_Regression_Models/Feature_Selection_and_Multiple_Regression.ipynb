{
 "cells": [
  {
   "cell_type": "code",
   "execution_count": 1,
   "id": "e0dd0f11",
   "metadata": {},
   "outputs": [],
   "source": [
    "import pandas as pd\n",
    "import matplotlib.pyplot as plt\n",
    "import numpy as np\n",
    "from sklearn.linear_model import LinearRegression\n",
    "from sklearn.model_selection import train_test_split\n",
    "import seaborn as sns"
   ]
  },
  {
   "cell_type": "code",
   "execution_count": 2,
   "id": "0eab5c13",
   "metadata": {},
   "outputs": [],
   "source": [
    "df = pd.read_csv('batting_leaders.csv')"
   ]
  },
  {
   "cell_type": "code",
   "execution_count": 3,
   "id": "3e2f7720",
   "metadata": {},
   "outputs": [
    {
     "data": {
      "text/html": [
       "<div>\n",
       "<style scoped>\n",
       "    .dataframe tbody tr th:only-of-type {\n",
       "        vertical-align: middle;\n",
       "    }\n",
       "\n",
       "    .dataframe tbody tr th {\n",
       "        vertical-align: top;\n",
       "    }\n",
       "\n",
       "    .dataframe thead th {\n",
       "        text-align: right;\n",
       "    }\n",
       "</style>\n",
       "<table border=\"1\" class=\"dataframe\">\n",
       "  <thead>\n",
       "    <tr style=\"text-align: right;\">\n",
       "      <th></th>\n",
       "      <th>Name</th>\n",
       "      <th>Team</th>\n",
       "      <th>G</th>\n",
       "      <th>PA</th>\n",
       "      <th>HR</th>\n",
       "      <th>R</th>\n",
       "      <th>RBI</th>\n",
       "      <th>SB</th>\n",
       "      <th>BB%</th>\n",
       "      <th>K%</th>\n",
       "      <th>...</th>\n",
       "      <th>OBP</th>\n",
       "      <th>SLG</th>\n",
       "      <th>wOBA</th>\n",
       "      <th>xwOBA</th>\n",
       "      <th>wRC+</th>\n",
       "      <th>BsR</th>\n",
       "      <th>Off</th>\n",
       "      <th>Def</th>\n",
       "      <th>WAR</th>\n",
       "      <th>playerid</th>\n",
       "    </tr>\n",
       "  </thead>\n",
       "  <tbody>\n",
       "    <tr>\n",
       "      <th>0</th>\n",
       "      <td>Aaron Judge</td>\n",
       "      <td>NYY</td>\n",
       "      <td>142</td>\n",
       "      <td>631</td>\n",
       "      <td>59</td>\n",
       "      <td>122</td>\n",
       "      <td>127</td>\n",
       "      <td>16</td>\n",
       "      <td>14.6%</td>\n",
       "      <td>25.0%</td>\n",
       "      <td>...</td>\n",
       "      <td>0.419</td>\n",
       "      <td>0.701</td>\n",
       "      <td>0.461</td>\n",
       "      <td>0.457</td>\n",
       "      <td>210</td>\n",
       "      <td>1.7</td>\n",
       "      <td>79.7</td>\n",
       "      <td>-0.4</td>\n",
       "      <td>10.4</td>\n",
       "      <td>15640</td>\n",
       "    </tr>\n",
       "    <tr>\n",
       "      <th>1</th>\n",
       "      <td>Paul Goldschmidt</td>\n",
       "      <td>STL</td>\n",
       "      <td>139</td>\n",
       "      <td>606</td>\n",
       "      <td>35</td>\n",
       "      <td>103</td>\n",
       "      <td>112</td>\n",
       "      <td>6</td>\n",
       "      <td>12.5%</td>\n",
       "      <td>21.1%</td>\n",
       "      <td>...</td>\n",
       "      <td>0.411</td>\n",
       "      <td>0.599</td>\n",
       "      <td>0.430</td>\n",
       "      <td>0.372</td>\n",
       "      <td>184</td>\n",
       "      <td>3.3</td>\n",
       "      <td>62.9</td>\n",
       "      <td>-15.8</td>\n",
       "      <td>7.1</td>\n",
       "      <td>9218</td>\n",
       "    </tr>\n",
       "    <tr>\n",
       "      <th>2</th>\n",
       "      <td>Nolan Arenado</td>\n",
       "      <td>STL</td>\n",
       "      <td>137</td>\n",
       "      <td>578</td>\n",
       "      <td>29</td>\n",
       "      <td>70</td>\n",
       "      <td>98</td>\n",
       "      <td>5</td>\n",
       "      <td>8.1%</td>\n",
       "      <td>11.8%</td>\n",
       "      <td>...</td>\n",
       "      <td>0.358</td>\n",
       "      <td>0.543</td>\n",
       "      <td>0.384</td>\n",
       "      <td>0.343</td>\n",
       "      <td>153</td>\n",
       "      <td>-1.5</td>\n",
       "      <td>34.3</td>\n",
       "      <td>12.4</td>\n",
       "      <td>6.9</td>\n",
       "      <td>9777</td>\n",
       "    </tr>\n",
       "    <tr>\n",
       "      <th>3</th>\n",
       "      <td>Freddie Freeman</td>\n",
       "      <td>LAD</td>\n",
       "      <td>144</td>\n",
       "      <td>644</td>\n",
       "      <td>20</td>\n",
       "      <td>106</td>\n",
       "      <td>94</td>\n",
       "      <td>12</td>\n",
       "      <td>10.9%</td>\n",
       "      <td>14.4%</td>\n",
       "      <td>...</td>\n",
       "      <td>0.405</td>\n",
       "      <td>0.525</td>\n",
       "      <td>0.396</td>\n",
       "      <td>0.409</td>\n",
       "      <td>159</td>\n",
       "      <td>6.2</td>\n",
       "      <td>50.5</td>\n",
       "      <td>-8.0</td>\n",
       "      <td>6.7</td>\n",
       "      <td>5361</td>\n",
       "    </tr>\n",
       "    <tr>\n",
       "      <th>4</th>\n",
       "      <td>Manny Machado</td>\n",
       "      <td>SDP</td>\n",
       "      <td>136</td>\n",
       "      <td>584</td>\n",
       "      <td>29</td>\n",
       "      <td>90</td>\n",
       "      <td>92</td>\n",
       "      <td>7</td>\n",
       "      <td>9.8%</td>\n",
       "      <td>19.9%</td>\n",
       "      <td>...</td>\n",
       "      <td>0.365</td>\n",
       "      <td>0.531</td>\n",
       "      <td>0.380</td>\n",
       "      <td>0.339</td>\n",
       "      <td>149</td>\n",
       "      <td>3.0</td>\n",
       "      <td>36.8</td>\n",
       "      <td>5.2</td>\n",
       "      <td>6.5</td>\n",
       "      <td>11493</td>\n",
       "    </tr>\n",
       "  </tbody>\n",
       "</table>\n",
       "<p>5 rows × 23 columns</p>\n",
       "</div>"
      ],
      "text/plain": [
       "               Name Team    G   PA  HR    R  RBI  SB    BB%     K%  ...  \\\n",
       "0       Aaron Judge  NYY  142  631  59  122  127  16  14.6%  25.0%  ...   \n",
       "1  Paul Goldschmidt  STL  139  606  35  103  112   6  12.5%  21.1%  ...   \n",
       "2     Nolan Arenado  STL  137  578  29   70   98   5   8.1%  11.8%  ...   \n",
       "3   Freddie Freeman  LAD  144  644  20  106   94  12  10.9%  14.4%  ...   \n",
       "4     Manny Machado  SDP  136  584  29   90   92   7   9.8%  19.9%  ...   \n",
       "\n",
       "     OBP    SLG   wOBA  xwOBA  wRC+  BsR   Off   Def   WAR  playerid  \n",
       "0  0.419  0.701  0.461  0.457   210  1.7  79.7  -0.4  10.4     15640  \n",
       "1  0.411  0.599  0.430  0.372   184  3.3  62.9 -15.8   7.1      9218  \n",
       "2  0.358  0.543  0.384  0.343   153 -1.5  34.3  12.4   6.9      9777  \n",
       "3  0.405  0.525  0.396  0.409   159  6.2  50.5  -8.0   6.7      5361  \n",
       "4  0.365  0.531  0.380  0.339   149  3.0  36.8   5.2   6.5     11493  \n",
       "\n",
       "[5 rows x 23 columns]"
      ]
     },
     "execution_count": 3,
     "metadata": {},
     "output_type": "execute_result"
    }
   ],
   "source": [
    "df.head()"
   ]
  },
  {
   "cell_type": "code",
   "execution_count": 4,
   "id": "57a350f9",
   "metadata": {
    "scrolled": true
   },
   "outputs": [
    {
     "data": {
      "text/plain": [
       "Index(['Name', 'Team', 'G', 'PA', 'HR', 'R', 'RBI', 'SB', 'BB%', 'K%', 'ISO',\n",
       "       'BABIP', 'AVG', 'OBP', 'SLG', 'wOBA', 'xwOBA', 'wRC+', 'BsR', 'Off',\n",
       "       'Def', 'WAR', 'playerid'],\n",
       "      dtype='object')"
      ]
     },
     "execution_count": 4,
     "metadata": {},
     "output_type": "execute_result"
    }
   ],
   "source": [
    "df.columns"
   ]
  },
  {
   "cell_type": "code",
   "execution_count": 45,
   "id": "175d9e49",
   "metadata": {},
   "outputs": [],
   "source": [
    "X = df[[\"RBI\"]].to_numpy()"
   ]
  },
  {
   "cell_type": "code",
   "execution_count": 46,
   "id": "e4bf013c",
   "metadata": {},
   "outputs": [
    {
     "data": {
      "text/html": [
       "<div>\n",
       "<style scoped>\n",
       "    .dataframe tbody tr th:only-of-type {\n",
       "        vertical-align: middle;\n",
       "    }\n",
       "\n",
       "    .dataframe tbody tr th {\n",
       "        vertical-align: top;\n",
       "    }\n",
       "\n",
       "    .dataframe thead th {\n",
       "        text-align: right;\n",
       "    }\n",
       "</style>\n",
       "<table border=\"1\" class=\"dataframe\">\n",
       "  <thead>\n",
       "    <tr style=\"text-align: right;\">\n",
       "      <th></th>\n",
       "      <th>G</th>\n",
       "      <th>PA</th>\n",
       "      <th>HR</th>\n",
       "      <th>R</th>\n",
       "      <th>RBI</th>\n",
       "      <th>SB</th>\n",
       "      <th>ISO</th>\n",
       "      <th>BABIP</th>\n",
       "      <th>AVG</th>\n",
       "      <th>OBP</th>\n",
       "      <th>SLG</th>\n",
       "      <th>wOBA</th>\n",
       "      <th>xwOBA</th>\n",
       "      <th>wRC+</th>\n",
       "      <th>BsR</th>\n",
       "      <th>Off</th>\n",
       "      <th>Def</th>\n",
       "      <th>WAR</th>\n",
       "      <th>playerid</th>\n",
       "    </tr>\n",
       "  </thead>\n",
       "  <tbody>\n",
       "    <tr>\n",
       "      <th>G</th>\n",
       "      <td>1.000000</td>\n",
       "      <td>0.829192</td>\n",
       "      <td>0.264908</td>\n",
       "      <td>0.516927</td>\n",
       "      <td>0.441460</td>\n",
       "      <td>0.139430</td>\n",
       "      <td>0.142853</td>\n",
       "      <td>0.085836</td>\n",
       "      <td>0.191947</td>\n",
       "      <td>0.175500</td>\n",
       "      <td>0.205378</td>\n",
       "      <td>0.203405</td>\n",
       "      <td>0.139919</td>\n",
       "      <td>0.221285</td>\n",
       "      <td>0.208384</td>\n",
       "      <td>0.316181</td>\n",
       "      <td>0.132110</td>\n",
       "      <td>0.409241</td>\n",
       "      <td>0.149367</td>\n",
       "    </tr>\n",
       "    <tr>\n",
       "      <th>PA</th>\n",
       "      <td>0.829192</td>\n",
       "      <td>1.000000</td>\n",
       "      <td>0.447717</td>\n",
       "      <td>0.773802</td>\n",
       "      <td>0.621024</td>\n",
       "      <td>0.119305</td>\n",
       "      <td>0.326504</td>\n",
       "      <td>0.206109</td>\n",
       "      <td>0.355516</td>\n",
       "      <td>0.394110</td>\n",
       "      <td>0.433089</td>\n",
       "      <td>0.458134</td>\n",
       "      <td>0.401998</td>\n",
       "      <td>0.453548</td>\n",
       "      <td>0.163063</td>\n",
       "      <td>0.529110</td>\n",
       "      <td>-0.024178</td>\n",
       "      <td>0.530460</td>\n",
       "      <td>0.053407</td>\n",
       "    </tr>\n",
       "    <tr>\n",
       "      <th>HR</th>\n",
       "      <td>0.264908</td>\n",
       "      <td>0.447717</td>\n",
       "      <td>1.000000</td>\n",
       "      <td>0.578971</td>\n",
       "      <td>0.821157</td>\n",
       "      <td>-0.078436</td>\n",
       "      <td>0.963147</td>\n",
       "      <td>-0.088883</td>\n",
       "      <td>0.104629</td>\n",
       "      <td>0.276539</td>\n",
       "      <td>0.859923</td>\n",
       "      <td>0.678430</td>\n",
       "      <td>0.660235</td>\n",
       "      <td>0.659142</td>\n",
       "      <td>-0.005549</td>\n",
       "      <td>0.667378</td>\n",
       "      <td>-0.179433</td>\n",
       "      <td>0.524207</td>\n",
       "      <td>-0.019107</td>\n",
       "    </tr>\n",
       "    <tr>\n",
       "      <th>R</th>\n",
       "      <td>0.516927</td>\n",
       "      <td>0.773802</td>\n",
       "      <td>0.578971</td>\n",
       "      <td>1.000000</td>\n",
       "      <td>0.637084</td>\n",
       "      <td>0.250458</td>\n",
       "      <td>0.532423</td>\n",
       "      <td>0.278543</td>\n",
       "      <td>0.466509</td>\n",
       "      <td>0.573559</td>\n",
       "      <td>0.656143</td>\n",
       "      <td>0.689552</td>\n",
       "      <td>0.566778</td>\n",
       "      <td>0.670267</td>\n",
       "      <td>0.340085</td>\n",
       "      <td>0.764785</td>\n",
       "      <td>0.031891</td>\n",
       "      <td>0.738359</td>\n",
       "      <td>-0.033110</td>\n",
       "    </tr>\n",
       "    <tr>\n",
       "      <th>RBI</th>\n",
       "      <td>0.441460</td>\n",
       "      <td>0.621024</td>\n",
       "      <td>0.821157</td>\n",
       "      <td>0.637084</td>\n",
       "      <td>1.000000</td>\n",
       "      <td>-0.013188</td>\n",
       "      <td>0.783560</td>\n",
       "      <td>0.161238</td>\n",
       "      <td>0.375069</td>\n",
       "      <td>0.391313</td>\n",
       "      <td>0.828441</td>\n",
       "      <td>0.703983</td>\n",
       "      <td>0.601019</td>\n",
       "      <td>0.676942</td>\n",
       "      <td>0.061134</td>\n",
       "      <td>0.702710</td>\n",
       "      <td>-0.114185</td>\n",
       "      <td>0.601266</td>\n",
       "      <td>-0.019271</td>\n",
       "    </tr>\n",
       "  </tbody>\n",
       "</table>\n",
       "</div>"
      ],
      "text/plain": [
       "            G        PA        HR         R       RBI        SB       ISO  \\\n",
       "G    1.000000  0.829192  0.264908  0.516927  0.441460  0.139430  0.142853   \n",
       "PA   0.829192  1.000000  0.447717  0.773802  0.621024  0.119305  0.326504   \n",
       "HR   0.264908  0.447717  1.000000  0.578971  0.821157 -0.078436  0.963147   \n",
       "R    0.516927  0.773802  0.578971  1.000000  0.637084  0.250458  0.532423   \n",
       "RBI  0.441460  0.621024  0.821157  0.637084  1.000000 -0.013188  0.783560   \n",
       "\n",
       "        BABIP       AVG       OBP       SLG      wOBA     xwOBA      wRC+  \\\n",
       "G    0.085836  0.191947  0.175500  0.205378  0.203405  0.139919  0.221285   \n",
       "PA   0.206109  0.355516  0.394110  0.433089  0.458134  0.401998  0.453548   \n",
       "HR  -0.088883  0.104629  0.276539  0.859923  0.678430  0.660235  0.659142   \n",
       "R    0.278543  0.466509  0.573559  0.656143  0.689552  0.566778  0.670267   \n",
       "RBI  0.161238  0.375069  0.391313  0.828441  0.703983  0.601019  0.676942   \n",
       "\n",
       "          BsR       Off       Def       WAR  playerid  \n",
       "G    0.208384  0.316181  0.132110  0.409241  0.149367  \n",
       "PA   0.163063  0.529110 -0.024178  0.530460  0.053407  \n",
       "HR  -0.005549  0.667378 -0.179433  0.524207 -0.019107  \n",
       "R    0.340085  0.764785  0.031891  0.738359 -0.033110  \n",
       "RBI  0.061134  0.702710 -0.114185  0.601266 -0.019271  "
      ]
     },
     "execution_count": 46,
     "metadata": {},
     "output_type": "execute_result"
    }
   ],
   "source": [
    "# view the correlation coefficient (R) for each pair of variables\n",
    "# R is the square root of R-squared\n",
    "# A correlation matrix helps select features that are highly predictive of our dependent variable\n",
    "# It also helps us identify collinearity between independent variables\n",
    "corr = df.corr()\n",
    "corr.head()"
   ]
  },
  {
   "cell_type": "code",
   "execution_count": 47,
   "id": "8b997830",
   "metadata": {},
   "outputs": [
    {
     "data": {
      "text/plain": [
       "<AxesSubplot:>"
      ]
     },
     "execution_count": 47,
     "metadata": {},
     "output_type": "execute_result"
    },
    {
     "data": {
      "image/png": "[encoded data removed]",
      "text/plain": [
       "<Figure size 720x432 with 2 Axes>"
      ]
     },
     "metadata": {},
     "output_type": "display_data"
    }
   ],
   "source": [
    "sns.heatmap(corr)"
   ]
  },
  {
   "cell_type": "code",
   "execution_count": 48,
   "id": "cf5f777d",
   "metadata": {},
   "outputs": [],
   "source": [
    "mask = np.triu(np.ones_like(corr, dtype=bool))"
   ]
  },
  {
   "cell_type": "code",
   "execution_count": 49,
   "id": "48298cc7",
   "metadata": {},
   "outputs": [
    {
     "data": {
      "text/plain": [
       "<AxesSubplot:>"
      ]
     },
     "execution_count": 49,
     "metadata": {},
     "output_type": "execute_result"
    },
    {
     "data": {
      "image/png": "[encoded data removed]",
      "text/plain": [
       "<Figure size 720x432 with 2 Axes>"
      ]
     },
     "metadata": {},
     "output_type": "display_data"
    }
   ],
   "source": [
    "sns.set(rc={'figure.figsize':(10,6)})\n",
    "sns.heatmap(corr, mask=mask)\n"
   ]
  },
  {
   "cell_type": "code",
   "execution_count": 50,
   "id": "67add2e3",
   "metadata": {},
   "outputs": [
    {
     "data": {
      "text/plain": [
       "G           0.441460\n",
       "PA          0.621024\n",
       "HR          0.821157\n",
       "R           0.637084\n",
       "RBI         1.000000\n",
       "SB         -0.013188\n",
       "ISO         0.783560\n",
       "BABIP       0.161238\n",
       "AVG         0.375069\n",
       "OBP         0.391313\n",
       "SLG         0.828441\n",
       "wOBA        0.703983\n",
       "xwOBA       0.601019\n",
       "wRC+        0.676942\n",
       "BsR         0.061134\n",
       "Off         0.702710\n",
       "Def        -0.114185\n",
       "WAR         0.601266\n",
       "playerid   -0.019271\n",
       "Name: RBI, dtype: float64"
      ]
     },
     "execution_count": 50,
     "metadata": {},
     "output_type": "execute_result"
    }
   ],
   "source": [
    "corr[\"RBI\"]"
   ]
  },
  {
   "cell_type": "code",
   "execution_count": 51,
   "id": "8f4fd894",
   "metadata": {},
   "outputs": [],
   "source": [
    "y = df[[\"SLG\", \"wRC+\", \"PA\"]]"
   ]
  },
  {
   "cell_type": "code",
   "execution_count": 52,
   "id": "ff97609c",
   "metadata": {},
   "outputs": [],
   "source": [
    "X_train, X_test, y_train, y_test = train_test_split(X, y, random_state=42)"
   ]
  },
  {
   "cell_type": "markdown",
   "id": "d72e126b",
   "metadata": {},
   "source": [
    "1. Preview data\n",
    "1. Select model\n",
    "1. Select features to include in model\n",
    "1. Split data into train and test sets\n",
    "1. Fit the model to the training set\n",
    "1. Create predictions for the test set\n",
    "1. Score the model based on the training and test sets"
   ]
  },
  {
   "cell_type": "code",
   "execution_count": 53,
   "id": "e15f1ca7",
   "metadata": {},
   "outputs": [],
   "source": [
    "model = LinearRegression()"
   ]
  },
  {
   "cell_type": "code",
   "execution_count": 54,
   "id": "93404c51",
   "metadata": {},
   "outputs": [
    {
     "data": {
      "text/plain": [
       "LinearRegression()"
      ]
     },
     "execution_count": 54,
     "metadata": {},
     "output_type": "execute_result"
    }
   ],
   "source": [
    "model.fit(X_train, y_train)"
   ]
  },
  {
   "cell_type": "markdown",
   "id": "877cba66",
   "metadata": {},
   "source": [
    "y = m1x1 + m2x2 + m3x3 + b\n",
    "\n",
    "dependent variable = coefficient * independent variable + intercept"
   ]
  },
  {
   "cell_type": "code",
   "execution_count": 55,
   "id": "5ab4798e",
   "metadata": {},
   "outputs": [
    {
     "name": "stdout",
     "output_type": "stream",
     "text": [
      "[[0.00272978]\n",
      " [0.82655689]\n",
      " [1.6427472 ]]\n"
     ]
    }
   ],
   "source": [
    "coef = model.coef_\n",
    "print(coef)"
   ]
  },
  {
   "cell_type": "code",
   "execution_count": 56,
   "id": "a66f97f4",
   "metadata": {},
   "outputs": [
    {
     "name": "stdout",
     "output_type": "stream",
     "text": [
      "[2.52409789e-01 6.08905325e+01 4.35785621e+02]\n"
     ]
    }
   ],
   "source": [
    "intercept = model.intercept_\n",
    "print(intercept)"
   ]
  },
  {
   "cell_type": "markdown",
   "id": "9e8f2434",
   "metadata": {},
   "source": [
    "Easier way to create the predicted data:"
   ]
  },
  {
   "cell_type": "code",
   "execution_count": 57,
   "id": "b951fb22",
   "metadata": {},
   "outputs": [
    {
     "data": {
      "text/plain": [
       "array([[3.88898725e-01, 1.02218377e+02, 5.17922981e+02],\n",
       "       [3.97088061e-01, 1.04698048e+02, 5.22851222e+02],\n",
       "       [4.95360094e-01, 1.34454096e+02, 5.81990122e+02],\n",
       "       [3.94358282e-01, 1.03871491e+02, 5.21208475e+02],\n",
       "       [3.97088061e-01, 1.04698048e+02, 5.22851222e+02],\n",
       "       [4.78981422e-01, 1.29494754e+02, 5.72133638e+02],\n",
       "       [4.87170758e-01, 1.31974425e+02, 5.77061880e+02],\n",
       "       [4.32575184e-01, 1.15443287e+02, 5.44206936e+02],\n",
       "       [3.99817839e-01, 1.05524605e+02, 5.24493970e+02],\n",
       "       [4.05277397e-01, 1.07177718e+02, 5.27779464e+02],\n",
       "       [4.05277397e-01, 1.07177718e+02, 5.27779464e+02],\n",
       "       [3.97088061e-01, 1.04698048e+02, 5.22851222e+02],\n",
       "       [4.73521864e-01, 1.27841641e+02, 5.68848144e+02],\n",
       "       [3.99817839e-01, 1.05524605e+02, 5.24493970e+02],\n",
       "       [4.68062307e-01, 1.26188527e+02, 5.65562650e+02],\n",
       "       [4.68062307e-01, 1.26188527e+02, 5.65562650e+02],\n",
       "       [3.83439167e-01, 1.00565263e+02, 5.14637486e+02],\n",
       "       [5.17198324e-01, 1.41066551e+02, 5.95132099e+02],\n",
       "       [4.57143192e-01, 1.22882299e+02, 5.58991661e+02],\n",
       "       [3.80709388e-01, 9.97387063e+01, 5.12994739e+02],\n",
       "       [5.03549430e-01, 1.36933766e+02, 5.86918363e+02],\n",
       "       [4.21656069e-01, 1.12137060e+02, 5.37635947e+02],\n",
       "       [3.86168946e-01, 1.01391820e+02, 5.16280234e+02],\n",
       "       [3.56141380e-01, 9.22996943e+01, 4.98210014e+02],\n",
       "       [4.02547618e-01, 1.06351161e+02, 5.26136717e+02],\n",
       "       [4.02547618e-01, 1.06351161e+02, 5.26136717e+02],\n",
       "       [4.24385848e-01, 1.12963617e+02, 5.39278694e+02],\n",
       "       [4.65332528e-01, 1.25361970e+02, 5.63919902e+02],\n",
       "       [4.35304963e-01, 1.16269844e+02, 5.45849683e+02],\n",
       "       [4.27115626e-01, 1.13790173e+02, 5.40921442e+02],\n",
       "       [4.46224077e-01, 1.19576072e+02, 5.52420672e+02],\n",
       "       [3.83439167e-01, 1.00565263e+02, 5.14637486e+02],\n",
       "       [4.13466733e-01, 1.09657389e+02, 5.32707706e+02],\n",
       "       [4.57143192e-01, 1.22882299e+02, 5.58991661e+02],\n",
       "       [3.83439167e-01, 1.00565263e+02, 5.14637486e+02],\n",
       "       [5.09008988e-01, 1.38586880e+02, 5.90203858e+02],\n",
       "       [3.58871159e-01, 9.31262512e+01, 4.99852762e+02],\n",
       "       [4.38034741e-01, 1.17096401e+02, 5.47492430e+02],\n",
       "       [4.54413414e-01, 1.22055742e+02, 5.57348914e+02],\n",
       "       [3.88898725e-01, 1.02218377e+02, 5.17922981e+02],\n",
       "       [4.13466733e-01, 1.09657389e+02, 5.32707706e+02],\n",
       "       [4.38034741e-01, 1.17096401e+02, 5.47492430e+02],\n",
       "       [4.05277397e-01, 1.07177718e+02, 5.27779464e+02],\n",
       "       [3.23384036e-01, 8.23810116e+01, 4.78497048e+02],\n",
       "       [5.09008988e-01, 1.38586880e+02, 5.90203858e+02],\n",
       "       [5.00819652e-01, 1.36107209e+02, 5.85275616e+02],\n",
       "       [4.95360094e-01, 1.34454096e+02, 5.81990122e+02],\n",
       "       [4.05277397e-01, 1.07177718e+02, 5.27779464e+02],\n",
       "       [4.18926290e-01, 1.11310503e+02, 5.35993200e+02],\n",
       "       [5.06279209e-01, 1.37760323e+02, 5.88561110e+02],\n",
       "       [3.50681823e-01, 9.06465805e+01, 4.94924520e+02],\n",
       "       [3.42492487e-01, 8.81669098e+01, 4.89996278e+02],\n",
       "       [3.77979610e-01, 9.89121494e+01, 5.11351992e+02],\n",
       "       [3.97088061e-01, 1.04698048e+02, 5.22851222e+02],\n",
       "       [3.77979610e-01, 9.89121494e+01, 5.11351992e+02],\n",
       "       [4.35304963e-01, 1.16269844e+02, 5.45849683e+02],\n",
       "       [4.84440979e-01, 1.31147868e+02, 5.75419133e+02],\n",
       "       [4.27115626e-01, 1.13790173e+02, 5.40921442e+02],\n",
       "       [4.48953856e-01, 1.20402629e+02, 5.54063419e+02],\n",
       "       [3.91628503e-01, 1.03044934e+02, 5.19565728e+02],\n",
       "       [3.56141380e-01, 9.22996943e+01, 4.98210014e+02],\n",
       "       [4.27115626e-01, 1.13790173e+02, 5.40921442e+02],\n",
       "       [4.08007175e-01, 1.08004275e+02, 5.29422211e+02],\n",
       "       [4.32575184e-01, 1.15443287e+02, 5.44206936e+02],\n",
       "       [3.91628503e-01, 1.03044934e+02, 5.19565728e+02],\n",
       "       [4.21656069e-01, 1.12137060e+02, 5.37635947e+02],\n",
       "       [4.02547618e-01, 1.06351161e+02, 5.26136717e+02],\n",
       "       [4.05277397e-01, 1.07177718e+02, 5.27779464e+02],\n",
       "       [3.99817839e-01, 1.05524605e+02, 5.24493970e+02],\n",
       "       [3.88898725e-01, 1.02218377e+02, 5.17922981e+02],\n",
       "       [3.88898725e-01, 1.02218377e+02, 5.17922981e+02],\n",
       "       [4.48953856e-01, 1.20402629e+02, 5.54063419e+02],\n",
       "       [3.72520052e-01, 9.72590356e+01, 5.08066498e+02],\n",
       "       [4.24385848e-01, 1.12963617e+02, 5.39278694e+02],\n",
       "       [4.73521864e-01, 1.27841641e+02, 5.68848144e+02],\n",
       "       [4.13466733e-01, 1.09657389e+02, 5.32707706e+02],\n",
       "       [4.76251643e-01, 1.28668197e+02, 5.70490891e+02],\n",
       "       [4.10736954e-01, 1.08830832e+02, 5.31064958e+02],\n",
       "       [4.68062307e-01, 1.26188527e+02, 5.65562650e+02],\n",
       "       [3.91628503e-01, 1.03044934e+02, 5.19565728e+02],\n",
       "       [5.58145004e-01, 1.53464904e+02, 6.19773307e+02],\n",
       "       [5.66334341e-01, 1.55944575e+02, 6.24701549e+02],\n",
       "       [4.76251643e-01, 1.28668197e+02, 5.70490891e+02],\n",
       "       [5.19928103e-01, 1.41893108e+02, 5.96774846e+02],\n",
       "       [5.22657881e-01, 1.42719665e+02, 5.98417594e+02],\n",
       "       [3.04275585e-01, 7.65951134e+01, 4.66997817e+02],\n",
       "       [4.35304963e-01, 1.16269844e+02, 5.45849683e+02],\n",
       "       [4.78981422e-01, 1.29494754e+02, 5.72133638e+02],\n",
       "       [4.10736954e-01, 1.08830832e+02, 5.31064958e+02],\n",
       "       [3.26113814e-01, 8.32075685e+01, 4.80139795e+02],\n",
       "       [3.75249831e-01, 9.80855925e+01, 5.09709245e+02],\n",
       "       [4.21656069e-01, 1.12137060e+02, 5.37635947e+02],\n",
       "       [4.08007175e-01, 1.08004275e+02, 5.29422211e+02],\n",
       "       [3.80709388e-01, 9.97387063e+01, 5.12994739e+02],\n",
       "       [3.50681823e-01, 9.06465805e+01, 4.94924520e+02],\n",
       "       [4.29845405e-01, 1.14616730e+02, 5.42564189e+02],\n",
       "       [4.24385848e-01, 1.12963617e+02, 5.39278694e+02],\n",
       "       [4.10736954e-01, 1.08830832e+02, 5.31064958e+02],\n",
       "       [4.21656069e-01, 1.12137060e+02, 5.37635947e+02],\n",
       "       [5.17198324e-01, 1.41066551e+02, 5.95132099e+02],\n",
       "       [4.18926290e-01, 1.11310503e+02, 5.35993200e+02]])"
      ]
     },
     "execution_count": 57,
     "metadata": {},
     "output_type": "execute_result"
    }
   ],
   "source": [
    "pred_y = model.predict(X_train)\n",
    "pred_y"
   ]
  },
  {
   "cell_type": "code",
   "execution_count": 58,
   "id": "584dccf7",
   "metadata": {},
   "outputs": [],
   "source": [
    "y_test_pred = model.predict(X_test)"
   ]
  },
  {
   "cell_type": "code",
   "execution_count": 59,
   "id": "5d301fbe",
   "metadata": {},
   "outputs": [],
   "source": [
    "train_score = model.score(X_train, y_train)"
   ]
  },
  {
   "cell_type": "code",
   "execution_count": 60,
   "id": "52ec92a6",
   "metadata": {},
   "outputs": [],
   "source": [
    "test_score = model.score(X_test, y_test)"
   ]
  },
  {
   "cell_type": "code",
   "execution_count": 61,
   "id": "0b6e2e2c",
   "metadata": {},
   "outputs": [
    {
     "data": {
      "text/plain": [
       "0.49043544000137446"
      ]
     },
     "execution_count": 61,
     "metadata": {},
     "output_type": "execute_result"
    }
   ],
   "source": [
    "# R-squared value\n",
    "train_score"
   ]
  },
  {
   "cell_type": "code",
   "execution_count": 62,
   "id": "fd4fc194",
   "metadata": {},
   "outputs": [
    {
     "data": {
      "text/plain": [
       "0.5474659801354301"
      ]
     },
     "execution_count": 62,
     "metadata": {},
     "output_type": "execute_result"
    }
   ],
   "source": [
    "test_score"
   ]
  },
  {
   "cell_type": "code",
   "execution_count": 63,
   "id": "390b2cad",
   "metadata": {},
   "outputs": [],
   "source": [
    "from statsmodels.api import OLS"
   ]
  },
  {
   "cell_type": "code",
   "execution_count": 64,
   "id": "677c2545",
   "metadata": {},
   "outputs": [],
   "source": [
    "model2 = OLS(X_train, y_train)"
   ]
  },
  {
   "cell_type": "code",
   "execution_count": 65,
   "id": "5c5fea59",
   "metadata": {
    "scrolled": false
   },
   "outputs": [
    {
     "data": {
      "text/html": [
       "<table class=\"simpletable\">\n",
       "<caption>OLS Regression Results</caption>\n",
       "<tr>\n",
       "  <th>Dep. Variable:</th>            <td>y</td>        <th>  R-squared (uncentered):</th>      <td>   0.967</td>\n",
       "</tr>\n",
       "<tr>\n",
       "  <th>Model:</th>                   <td>OLS</td>       <th>  Adj. R-squared (uncentered):</th> <td>   0.966</td>\n",
       "</tr>\n",
       "<tr>\n",
       "  <th>Method:</th>             <td>Least Squares</td>  <th>  F-statistic:       </th>          <td>   962.8</td>\n",
       "</tr>\n",
       "<tr>\n",
       "  <th>Date:</th>             <td>Mon, 26 Sep 2022</td> <th>  Prob (F-statistic):</th>          <td>1.52e-72</td>\n",
       "</tr>\n",
       "<tr>\n",
       "  <th>Time:</th>                 <td>19:20:10</td>     <th>  Log-Likelihood:    </th>          <td> -394.10</td>\n",
       "</tr>\n",
       "<tr>\n",
       "  <th>No. Observations:</th>      <td>   101</td>      <th>  AIC:               </th>          <td>   794.2</td>\n",
       "</tr>\n",
       "<tr>\n",
       "  <th>Df Residuals:</th>          <td>    98</td>      <th>  BIC:               </th>          <td>   802.0</td>\n",
       "</tr>\n",
       "<tr>\n",
       "  <th>Df Model:</th>              <td>     3</td>      <th>                     </th>              <td> </td>   \n",
       "</tr>\n",
       "<tr>\n",
       "  <th>Covariance Type:</th>      <td>nonrobust</td>    <th>                     </th>              <td> </td>   \n",
       "</tr>\n",
       "</table>\n",
       "<table class=\"simpletable\">\n",
       "<tr>\n",
       "    <td></td>      <th>coef</th>     <th>std err</th>      <th>t</th>      <th>P>|t|</th>  <th>[0.025</th>    <th>0.975]</th>  \n",
       "</tr>\n",
       "<tr>\n",
       "  <th>SLG</th>  <td>  180.6098</td> <td>   37.457</td> <td>    4.822</td> <td> 0.000</td> <td>  106.278</td> <td>  254.942</td>\n",
       "</tr>\n",
       "<tr>\n",
       "  <th>wRC+</th> <td>   -0.0280</td> <td>    0.105</td> <td>   -0.266</td> <td> 0.791</td> <td>   -0.236</td> <td>    0.181</td>\n",
       "</tr>\n",
       "<tr>\n",
       "  <th>PA</th>   <td>   -0.0176</td> <td>    0.016</td> <td>   -1.073</td> <td> 0.286</td> <td>   -0.050</td> <td>    0.015</td>\n",
       "</tr>\n",
       "</table>\n",
       "<table class=\"simpletable\">\n",
       "<tr>\n",
       "  <th>Omnibus:</th>       <td> 7.986</td> <th>  Durbin-Watson:     </th> <td>   1.926</td>\n",
       "</tr>\n",
       "<tr>\n",
       "  <th>Prob(Omnibus):</th> <td> 0.018</td> <th>  Jarque-Bera (JB):  </th> <td>   7.617</td>\n",
       "</tr>\n",
       "<tr>\n",
       "  <th>Skew:</th>          <td> 0.642</td> <th>  Prob(JB):          </th> <td>  0.0222</td>\n",
       "</tr>\n",
       "<tr>\n",
       "  <th>Kurtosis:</th>      <td> 3.403</td> <th>  Cond. No.          </th> <td>1.72e+04</td>\n",
       "</tr>\n",
       "</table><br/><br/>Notes:<br/>[1] R² is computed without centering (uncentered) since the model does not contain a constant.<br/>[2] Standard Errors assume that the covariance matrix of the errors is correctly specified.<br/>[3] The condition number is large, 1.72e+04. This might indicate that there are<br/>strong multicollinearity or other numerical problems."
      ],
      "text/plain": [
       "<class 'statsmodels.iolib.summary.Summary'>\n",
       "\"\"\"\n",
       "                                 OLS Regression Results                                \n",
       "=======================================================================================\n",
       "Dep. Variable:                      y   R-squared (uncentered):                   0.967\n",
       "Model:                            OLS   Adj. R-squared (uncentered):              0.966\n",
       "Method:                 Least Squares   F-statistic:                              962.8\n",
       "Date:                Mon, 26 Sep 2022   Prob (F-statistic):                    1.52e-72\n",
       "Time:                        19:20:10   Log-Likelihood:                         -394.10\n",
       "No. Observations:                 101   AIC:                                      794.2\n",
       "Df Residuals:                      98   BIC:                                      802.0\n",
       "Df Model:                           3                                                  \n",
       "Covariance Type:            nonrobust                                                  \n",
       "==============================================================================\n",
       "                 coef    std err          t      P>|t|      [0.025      0.975]\n",
       "------------------------------------------------------------------------------\n",
       "SLG          180.6098     37.457      4.822      0.000     106.278     254.942\n",
       "wRC+          -0.0280      0.105     -0.266      0.791      -0.236       0.181\n",
       "PA            -0.0176      0.016     -1.073      0.286      -0.050       0.015\n",
       "==============================================================================\n",
       "Omnibus:                        7.986   Durbin-Watson:                   1.926\n",
       "Prob(Omnibus):                  0.018   Jarque-Bera (JB):                7.617\n",
       "Skew:                           0.642   Prob(JB):                       0.0222\n",
       "Kurtosis:                       3.403   Cond. No.                     1.72e+04\n",
       "==============================================================================\n",
       "\n",
       "Notes:\n",
       "[1] R² is computed without centering (uncentered) since the model does not contain a constant.\n",
       "[2] Standard Errors assume that the covariance matrix of the errors is correctly specified.\n",
       "[3] The condition number is large, 1.72e+04. This might indicate that there are\n",
       "strong multicollinearity or other numerical problems.\n",
       "\"\"\""
      ]
     },
     "execution_count": 65,
     "metadata": {},
     "output_type": "execute_result"
    }
   ],
   "source": [
    "model2.fit().summary()"
   ]
  },
  {
   "cell_type": "code",
   "execution_count": 66,
   "id": "497e06e3",
   "metadata": {},
   "outputs": [],
   "source": [
    "y = df[[\"SLG\", \"PA\"]]\n",
    "X_train, X_test, y_train, y_test = train_test_split(X, y, random_state=42)"
   ]
  },
  {
   "cell_type": "code",
   "execution_count": 67,
   "id": "940899f5",
   "metadata": {},
   "outputs": [],
   "source": [
    "model = LinearRegression()\n",
    "model.fit(X_train, y_train)\n",
    "train_score = model.score(X_train, y_train)\n",
    "test_score = model.score(X_test, y_test)"
   ]
  },
  {
   "cell_type": "code",
   "execution_count": 68,
   "id": "493f0207",
   "metadata": {},
   "outputs": [
    {
     "data": {
      "text/plain": [
       "0.5122535774455997"
      ]
     },
     "execution_count": 68,
     "metadata": {},
     "output_type": "execute_result"
    }
   ],
   "source": [
    "train_score"
   ]
  },
  {
   "cell_type": "code",
   "execution_count": 69,
   "id": "7b6ba5fb",
   "metadata": {},
   "outputs": [
    {
     "data": {
      "text/plain": [
       "0.5909360477929538"
      ]
     },
     "execution_count": 69,
     "metadata": {},
     "output_type": "execute_result"
    }
   ],
   "source": [
    "test_score"
   ]
  },
  {
   "cell_type": "code",
   "execution_count": 70,
   "id": "38158a79",
   "metadata": {},
   "outputs": [],
   "source": [
    "model2 = OLS(X_train, y_train)"
   ]
  },
  {
   "cell_type": "code",
   "execution_count": 71,
   "id": "4536e59f",
   "metadata": {},
   "outputs": [
    {
     "data": {
      "text/html": [
       "<table class=\"simpletable\">\n",
       "<caption>OLS Regression Results</caption>\n",
       "<tr>\n",
       "  <th>Dep. Variable:</th>            <td>y</td>        <th>  R-squared (uncentered):</th>      <td>   0.967</td>\n",
       "</tr>\n",
       "<tr>\n",
       "  <th>Model:</th>                   <td>OLS</td>       <th>  Adj. R-squared (uncentered):</th> <td>   0.966</td>\n",
       "</tr>\n",
       "<tr>\n",
       "  <th>Method:</th>             <td>Least Squares</td>  <th>  F-statistic:       </th>          <td>   1458.</td>\n",
       "</tr>\n",
       "<tr>\n",
       "  <th>Date:</th>             <td>Mon, 26 Sep 2022</td> <th>  Prob (F-statistic):</th>          <td>3.64e-74</td>\n",
       "</tr>\n",
       "<tr>\n",
       "  <th>Time:</th>                 <td>19:21:00</td>     <th>  Log-Likelihood:    </th>          <td> -394.13</td>\n",
       "</tr>\n",
       "<tr>\n",
       "  <th>No. Observations:</th>      <td>   101</td>      <th>  AIC:               </th>          <td>   792.3</td>\n",
       "</tr>\n",
       "<tr>\n",
       "  <th>Df Residuals:</th>          <td>    99</td>      <th>  BIC:               </th>          <td>   797.5</td>\n",
       "</tr>\n",
       "<tr>\n",
       "  <th>Df Model:</th>              <td>     2</td>      <th>                     </th>              <td> </td>   \n",
       "</tr>\n",
       "<tr>\n",
       "  <th>Covariance Type:</th>      <td>nonrobust</td>    <th>                     </th>              <td> </td>   \n",
       "</tr>\n",
       "</table>\n",
       "<table class=\"simpletable\">\n",
       "<tr>\n",
       "   <td></td>      <th>coef</th>     <th>std err</th>      <th>t</th>      <th>P>|t|</th>  <th>[0.025</th>    <th>0.975]</th>  \n",
       "</tr>\n",
       "<tr>\n",
       "  <th>SLG</th> <td>  172.2393</td> <td>   20.273</td> <td>    8.496</td> <td> 0.000</td> <td>  132.013</td> <td>  212.466</td>\n",
       "</tr>\n",
       "<tr>\n",
       "  <th>PA</th>  <td>   -0.0168</td> <td>    0.016</td> <td>   -1.048</td> <td> 0.297</td> <td>   -0.049</td> <td>    0.015</td>\n",
       "</tr>\n",
       "</table>\n",
       "<table class=\"simpletable\">\n",
       "<tr>\n",
       "  <th>Omnibus:</th>       <td> 7.779</td> <th>  Durbin-Watson:     </th> <td>   1.932</td>\n",
       "</tr>\n",
       "<tr>\n",
       "  <th>Prob(Omnibus):</th> <td> 0.020</td> <th>  Jarque-Bera (JB):  </th> <td>   7.407</td>\n",
       "</tr>\n",
       "<tr>\n",
       "  <th>Skew:</th>          <td> 0.637</td> <th>  Prob(JB):          </th> <td>  0.0246</td>\n",
       "</tr>\n",
       "<tr>\n",
       "  <th>Kurtosis:</th>      <td> 3.367</td> <th>  Cond. No.          </th> <td>9.14e+03</td>\n",
       "</tr>\n",
       "</table><br/><br/>Notes:<br/>[1] R² is computed without centering (uncentered) since the model does not contain a constant.<br/>[2] Standard Errors assume that the covariance matrix of the errors is correctly specified.<br/>[3] The condition number is large, 9.14e+03. This might indicate that there are<br/>strong multicollinearity or other numerical problems."
      ],
      "text/plain": [
       "<class 'statsmodels.iolib.summary.Summary'>\n",
       "\"\"\"\n",
       "                                 OLS Regression Results                                \n",
       "=======================================================================================\n",
       "Dep. Variable:                      y   R-squared (uncentered):                   0.967\n",
       "Model:                            OLS   Adj. R-squared (uncentered):              0.966\n",
       "Method:                 Least Squares   F-statistic:                              1458.\n",
       "Date:                Mon, 26 Sep 2022   Prob (F-statistic):                    3.64e-74\n",
       "Time:                        19:21:00   Log-Likelihood:                         -394.13\n",
       "No. Observations:                 101   AIC:                                      792.3\n",
       "Df Residuals:                      99   BIC:                                      797.5\n",
       "Df Model:                           2                                                  \n",
       "Covariance Type:            nonrobust                                                  \n",
       "==============================================================================\n",
       "                 coef    std err          t      P>|t|      [0.025      0.975]\n",
       "------------------------------------------------------------------------------\n",
       "SLG          172.2393     20.273      8.496      0.000     132.013     212.466\n",
       "PA            -0.0168      0.016     -1.048      0.297      -0.049       0.015\n",
       "==============================================================================\n",
       "Omnibus:                        7.779   Durbin-Watson:                   1.932\n",
       "Prob(Omnibus):                  0.020   Jarque-Bera (JB):                7.407\n",
       "Skew:                           0.637   Prob(JB):                       0.0246\n",
       "Kurtosis:                       3.367   Cond. No.                     9.14e+03\n",
       "==============================================================================\n",
       "\n",
       "Notes:\n",
       "[1] R² is computed without centering (uncentered) since the model does not contain a constant.\n",
       "[2] Standard Errors assume that the covariance matrix of the errors is correctly specified.\n",
       "[3] The condition number is large, 9.14e+03. This might indicate that there are\n",
       "strong multicollinearity or other numerical problems.\n",
       "\"\"\""
      ]
     },
     "execution_count": 71,
     "metadata": {},
     "output_type": "execute_result"
    }
   ],
   "source": [
    "model2.fit().summary()"
   ]
  },
  {
   "cell_type": "code",
   "execution_count": 72,
   "id": "f6d1423f",
   "metadata": {},
   "outputs": [],
   "source": [
    "y = df[[\"SLG\"]]\n",
    "X_train, X_test, y_train, y_test = train_test_split(X, y, random_state=42)"
   ]
  },
  {
   "cell_type": "code",
   "execution_count": 73,
   "id": "94ee5d56",
   "metadata": {},
   "outputs": [],
   "source": [
    "model = LinearRegression()\n",
    "model.fit(X_train, y_train)\n",
    "train_score = model.score(X_train, y_train)\n",
    "test_score = model.score(X_test, y_test)"
   ]
  },
  {
   "cell_type": "code",
   "execution_count": 74,
   "id": "fa56b342",
   "metadata": {},
   "outputs": [
    {
     "data": {
      "text/plain": [
       "0.6898499174022765"
      ]
     },
     "execution_count": 74,
     "metadata": {},
     "output_type": "execute_result"
    }
   ],
   "source": [
    "train_score"
   ]
  },
  {
   "cell_type": "code",
   "execution_count": 75,
   "id": "e6430afd",
   "metadata": {},
   "outputs": [
    {
     "data": {
      "text/plain": [
       "0.6580988381371495"
      ]
     },
     "execution_count": 75,
     "metadata": {},
     "output_type": "execute_result"
    }
   ],
   "source": [
    "test_score"
   ]
  },
  {
   "cell_type": "code",
   "execution_count": null,
   "id": "525bcc53",
   "metadata": {},
   "outputs": [],
   "source": []
  }
 ],
 "metadata": {
  "kernelspec": {
   "display_name": "Python 3 (ipykernel)",
   "language": "python",
   "name": "python3"
  },
  "language_info": {
   "codemirror_mode": {
    "name": "ipython",
    "version": 3
   },
   "file_extension": ".py",
   "mimetype": "text/x-python",
   "name": "python",
   "nbconvert_exporter": "python",
   "pygments_lexer": "ipython3",
   "version": "3.7.13"
  }
 },
 "nbformat": 4,
 "nbformat_minor": 5
}
